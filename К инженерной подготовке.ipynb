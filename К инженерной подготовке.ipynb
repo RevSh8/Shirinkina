{
 "cells": [
  {
   "cell_type": "markdown",
   "id": "bdf4167f",
   "metadata": {},
   "source": [
    "5-1-adc-simple.py"
   ]
  },
  {
   "cell_type": "code",
   "execution_count": null,
   "id": "6b303c7f",
   "metadata": {},
   "outputs": [],
   "source": [
    "import RPi.GPIO as GPIO\n",
    "import time\n",
    "\n",
    "dac = []\n",
    "bits = len(dac)\n",
    "levels = 2**bits\n",
    "maxVoltage = 3.3\n",
    "comp = 4\n",
    "troyka = 14\n",
    "\n",
    "GPIO.setmode(GPIO.BCM)\n",
    "GPIO.setup(dac, GPIO.OUT, initial=GPIO.LOW)\n",
    "GPIO.setup(troyka, GPIO.OUT, initial=GPIO.HIGH)\n",
    "GPIO.setup(comp, GPIO.IN)\n",
    "\n",
    "def decimal2binary(decimal):\n",
    "    return [int(bit) for bit in bin(decimal)[2:].zfill(bits)]\n",
    "\n",
    "def num2dac(value):\n",
    "    signal = decimal2binary(value)\n",
    "    GPIO.output(dac, signal)\n",
    "    return signal\n",
    "\n",
    "def adc(levels, maxVoltage, comp):\n",
    "    for value in range(256):\n",
    "        time.sleep(0.01)\n",
    "        signal = num2dac(value)\n",
    "        voltage = value / levels * maxVoltage\n",
    "        compValue = GPIO.input(comp)\n",
    "        if compValue == 0:\n",
    "            return(value, signal,voltage)\n",
    "\n",
    "try:\n",
    "    while True:\n",
    "        value, signal, voltage = abc(levels, maxVoltage, comp)\n",
    "        print(\"ADC value = {:^3} -> {:.2f}\".format(value, signal, voltage))\n",
    "\n",
    "finally:\n",
    "    GPIO.output(dac, GPIO.LOW)\n",
    "    GPIO.cleanup(dac)"
   ]
  },
  {
   "cell_type": "markdown",
   "id": "1cbd726b",
   "metadata": {},
   "source": [
    "5-2-adc-sar.py"
   ]
  },
  {
   "cell_type": "code",
   "execution_count": 3,
   "id": "17ff58f7",
   "metadata": {},
   "outputs": [
    {
     "ename": "ModuleNotFoundError",
     "evalue": "No module named 'RPi'",
     "output_type": "error",
     "traceback": [
      "\u001b[1;31m---------------------------------------------------------------------------\u001b[0m",
      "\u001b[1;31mModuleNotFoundError\u001b[0m                       Traceback (most recent call last)",
      "\u001b[1;32m<ipython-input-3-4e6cb2c220ba>\u001b[0m in \u001b[0;36m<module>\u001b[1;34m\u001b[0m\n\u001b[1;32m----> 1\u001b[1;33m \u001b[1;32mimport\u001b[0m \u001b[0mRPi\u001b[0m\u001b[1;33m.\u001b[0m\u001b[0mGPIO\u001b[0m \u001b[1;32mas\u001b[0m \u001b[0mGPIO\u001b[0m\u001b[1;33m\u001b[0m\u001b[1;33m\u001b[0m\u001b[0m\n\u001b[0m\u001b[0;32m      2\u001b[0m \u001b[1;32mimport\u001b[0m \u001b[0mtime\u001b[0m\u001b[1;33m\u001b[0m\u001b[1;33m\u001b[0m\u001b[0m\n\u001b[0;32m      3\u001b[0m \u001b[1;33m\u001b[0m\u001b[0m\n\u001b[0;32m      4\u001b[0m \u001b[0mdac\u001b[0m \u001b[1;33m=\u001b[0m \u001b[1;33m[\u001b[0m\u001b[1;33m]\u001b[0m\u001b[1;33m\u001b[0m\u001b[1;33m\u001b[0m\u001b[0m\n\u001b[0;32m      5\u001b[0m \u001b[0mbits\u001b[0m \u001b[1;33m=\u001b[0m \u001b[0mlen\u001b[0m\u001b[1;33m(\u001b[0m\u001b[0mdac\u001b[0m\u001b[1;33m)\u001b[0m\u001b[1;33m\u001b[0m\u001b[1;33m\u001b[0m\u001b[0m\n",
      "\u001b[1;31mModuleNotFoundError\u001b[0m: No module named 'RPi'"
     ]
    }
   ],
   "source": [
    "import RPi.GPIO as GPIO\n",
    "import time\n",
    "\n",
    "dac = []\n",
    "bits = len(dac)\n",
    "levels = 2**bits\n",
    "maxVoltage = 3.3\n",
    "comp = 4\n",
    "troyka = 14\n",
    "\n",
    "GPIO.setmode(GPIO.BCM)\n",
    "GPIO.setup(dac, GPIO.OUT, initial=GPIO.LOW)\n",
    "GPIO.setup(troyka, GPIO.OUT, initial=GPIO.HIGH)\n",
    "GPIO.setup(comp, GPIO.IN)\n",
    "\n",
    "def decimal2binary(decimal):\n",
    "    return [int(bit) for bit in bin(decimal)[2:].zfill(bits)]\n",
    "\n",
    "def num2dac(value):\n",
    "    signal = decimal2binary(value)\n",
    "    GPIO.output(dac, signal)\n",
    "    return signal\n",
    "\n",
    "def adc(levels, maxVoltage, comp):\n",
    "    res = [0, 0, 0, 0, 0, 0, 0, 0]\n",
    "    for value in range(8):\n",
    "        time.sleep(0.01)\n",
    "        signal = num2dac(int(''.join([str(i) for i in res]), base=2)+2**(7-value))\n",
    "        compValue = GPIO.input(comp)\n",
    "        if compValue == 0:\n",
    "            res[i] = 1\n",
    "    voltage = int(''.join([str(i) for i in res]), base=2) / levels * maxVoltage\n",
    "    signal = num2dac(int(''.join([str(i) for i in res]), base=2))\n",
    "    return(int(''.join([str(i) for i in res]), base=2), signal,voltage)\n",
    "\n",
    "try:\n",
    "    while True:\n",
    "        value, signal, voltage = abc(levels, maxVoltage, comp)\n",
    "        print(\"ADC value = {:^3} -> {:.2f}\".format(value, signal, voltage))\n",
    "\n",
    "finally:\n",
    "    GPIO.output(dac, GPIO.LOW)\n",
    "    GPIO.cleanup(dac)"
   ]
  },
  {
   "cell_type": "markdown",
   "id": "326539f6",
   "metadata": {},
   "source": [
    "5-3-adc-volume.py"
   ]
  },
  {
   "cell_type": "code",
   "execution_count": null,
   "id": "4c36d4de",
   "metadata": {},
   "outputs": [],
   "source": []
  }
 ],
 "metadata": {
  "kernelspec": {
   "display_name": "Python 3",
   "language": "python",
   "name": "python3"
  },
  "language_info": {
   "codemirror_mode": {
    "name": "ipython",
    "version": 3
   },
   "file_extension": ".py",
   "mimetype": "text/x-python",
   "name": "python",
   "nbconvert_exporter": "python",
   "pygments_lexer": "ipython3",
   "version": "3.8.8"
  }
 },
 "nbformat": 4,
 "nbformat_minor": 5
}
